{
 "cells": [
  {
   "cell_type": "markdown",
   "metadata": {},
   "source": [
    "\n",
    "# Question 1"
   ]
  },
  {
   "cell_type": "code",
   "execution_count": 1,
   "metadata": {},
   "outputs": [
    {
     "name": "stdout",
     "output_type": "stream",
     "text": [
      "Twinkle, twinkle, little star, \n",
      " \t How I wonder what you are! \n",
      " \t\t Up above the world so high, \n",
      " \t\t Like a diamond in the sky. \n",
      " Twinkle, twinkle, little star, \n",
      " \t How I wonder what you are\n"
     ]
    }
   ],
   "source": [
    "print(\"Twinkle, twinkle, little star, \\n \\t How I wonder what you are! \\n \\t\\t Up above the world so high, \\n \\t\\t Like a diamond in the sky. \\n Twinkle, twinkle, little star, \\n \\t How I wonder what you are\")"
   ]
  },
  {
   "cell_type": "markdown",
   "metadata": {},
   "source": [
    "# Question 2"
   ]
  },
  {
   "cell_type": "code",
   "execution_count": 4,
   "metadata": {},
   "outputs": [
    {
     "name": "stdout",
     "output_type": "stream",
     "text": [
      "3.7.3\n"
     ]
    }
   ],
   "source": [
    "from platform import python_version\n",
    "print(python_version())"
   ]
  },
  {
   "cell_type": "markdown",
   "metadata": {},
   "source": [
    "# Question 3"
   ]
  },
  {
   "cell_type": "code",
   "execution_count": 6,
   "metadata": {},
   "outputs": [
    {
     "name": "stdout",
     "output_type": "stream",
     "text": [
      "2019-11-05 19:38:04.989677\n"
     ]
    }
   ],
   "source": [
    "from datetime import datetime\n",
    "dateandtime = datetime.now()\n",
    "print(dateandtime)"
   ]
  },
  {
   "cell_type": "markdown",
   "metadata": {},
   "source": [
    "# Question 4"
   ]
  },
  {
   "cell_type": "code",
   "execution_count": 8,
   "metadata": {},
   "outputs": [
    {
     "name": "stdout",
     "output_type": "stream",
     "text": [
      "Enter the radius of the circle12\n",
      "75.408\n"
     ]
    }
   ],
   "source": [
    "# C = 2*3.14*r\n",
    "one = int(input(\"Enter the radius of the circle\"))\n",
    "two = 3.142\n",
    "C = one*two*2\n",
    "print(C)\n"
   ]
  },
  {
   "cell_type": "markdown",
   "metadata": {},
   "source": [
    "# Question 5"
   ]
  },
  {
   "cell_type": "code",
   "execution_count": 9,
   "metadata": {},
   "outputs": [
    {
     "name": "stdout",
     "output_type": "stream",
     "text": [
      "Enter first nameAhmed \n",
      "Enter last nameRaza\n",
      "Raza Ahmed \n"
     ]
    }
   ],
   "source": [
    "first_name = input(\"Enter first name\")\n",
    "last_name = input(\"Enter last name\")\n",
    "print(last_name + \" \" +  first_name)"
   ]
  },
  {
   "cell_type": "markdown",
   "metadata": {},
   "source": [
    "# Question 6"
   ]
  },
  {
   "cell_type": "code",
   "execution_count": 12,
   "metadata": {},
   "outputs": [
    {
     "name": "stdout",
     "output_type": "stream",
     "text": [
      "Enter nameAHMED\n",
      "Enter country namePAKISTAN\n",
      "AHMED resident of PAKISTAN\n"
     ]
    }
   ],
   "source": [
    "a = input(\"Enter name\")\n",
    "b = input(\"Enter country name\")\n",
    "print(a + \" resident of \" +  b)"
   ]
  },
  {
   "cell_type": "code",
   "execution_count": 13,
   "metadata": {},
   "outputs": [
    {
     "name": "stdout",
     "output_type": "stream",
     "text": [
      "Enter number6\n",
      "Enter number6\n",
      "12\n"
     ]
    }
   ],
   "source": [
    "a = int(input(\"Enter number\"))\n",
    "b = int(input(\"Enter number\"))\n",
    "print(a + b)"
   ]
  },
  {
   "cell_type": "code",
   "execution_count": null,
   "metadata": {},
   "outputs": [],
   "source": []
  }
 ],
 "metadata": {
  "kernelspec": {
   "display_name": "Python 3",
   "language": "python",
   "name": "python3"
  },
  "language_info": {
   "codemirror_mode": {
    "name": "ipython",
    "version": 3
   },
   "file_extension": ".py",
   "mimetype": "text/x-python",
   "name": "python",
   "nbconvert_exporter": "python",
   "pygments_lexer": "ipython3",
   "version": "3.7.3"
  }
 },
 "nbformat": 4,
 "nbformat_minor": 2
}
