{
 "cells": [
  {
   "cell_type": "code",
   "execution_count": 43,
   "metadata": {},
   "outputs": [
    {
     "name": "stdout",
     "output_type": "stream",
     "text": [
      "Enter first digit 5\n",
      "Enter second digit 55\n",
      "Enter operator +\n",
      "60\n"
     ]
    }
   ],
   "source": [
    "first = int(input(\"Enter first digit \"))\n",
    "second = int(input(\"Enter second digit \"))\n",
    "operator = input(\"Enter operator \")\n",
    "if operator == \"+\":\n",
    "    hybrid = first + second\n",
    "    print(hybrid)\n",
    "elif operator == \"-\":\n",
    "    hybrid = first - second\n",
    "    print(hybrid)\n",
    "elif operator == \"*\":\n",
    "    hybrid = first * second\n",
    "    print(hybrid)\n",
    "elif operator == \"/\":\n",
    "    hybrid = first / second\n",
    "    print(hybrid)\n",
    "elif operator == \"**\":\n",
    "    hybrid = first ** second\n",
    "    print(hybrid)\n",
    "else:\n",
    "    print(\"Enter correct operator\")"
   ]
  },
  {
   "cell_type": "code",
   "execution_count": 44,
   "metadata": {},
   "outputs": [
    {
     "name": "stdout",
     "output_type": "stream",
     "text": [
      "['1', '2', '3', '12', '4']\n",
      "['1', '2', '3', '12', '4']\n",
      "['1', '2', '3', '12', '4']\n",
      "['1', '2', '3', '12', '4']\n",
      "['1', '2', '3', '12', '4']\n",
      "['1', '2', '3', '12', '4']\n",
      "['1', '2', '3', '12', '4']\n"
     ]
    }
   ],
   "source": [
    "mylist=['1','ahmed','2','ali','3', '12', '4']\n",
    "for item in mylist:\n",
    "    mynewlist =  [run for run in mylist if run.isdigit()]\n",
    "    print(mynewlist)"
   ]
  },
  {
   "cell_type": "code",
   "execution_count": 45,
   "metadata": {},
   "outputs": [
    {
     "name": "stdout",
     "output_type": "stream",
     "text": [
      "{'Employee_ID': '42201 ', 'Full Name': 'Ahmed Ali', 'Father Name': 'Raza', 'Job': 'Developer', 'kharchi': '40000'}\n"
     ]
    }
   ],
   "source": [
    "Employee = {\"Employee_ID\": \"42201 \",\n",
    "            \"Full Name\": \"Ahmed Ali\",\n",
    "            \"Father Name\": \"Raza\",\n",
    "            \"Job\": \"Developer\",\n",
    "           }\n",
    "Employee[\"kharchi\"] = \"40000\"\n",
    "print(Employee)\n"
   ]
  },
  {
   "cell_type": "code",
   "execution_count": 46,
   "metadata": {},
   "outputs": [
    {
     "name": "stdout",
     "output_type": "stream",
     "text": [
      "170\n"
     ]
    }
   ],
   "source": [
    "Dict = {'num1':15,'num2':15,'num3':20, 'num4':120}\n",
    "print(sum(Dict.values()))"
   ]
  },
  {
   "cell_type": "code",
   "execution_count": 47,
   "metadata": {},
   "outputs": [
    {
     "name": "stdout",
     "output_type": "stream",
     "text": [
      "[0, 1, 99]\n"
     ]
    }
   ],
   "source": [
    "check_dup = [ 1, 0, 8, 0, 3, 1, 15, 99, 45, 5, 12, 99]\n",
    "dupItems = []\n",
    "uniqItems = {}\n",
    "for num in check_dup:\n",
    "   if num not in uniqItems:\n",
    "      uniqItems[num] = 1\n",
    "   else:\n",
    "      if uniqItems[num] == 1:\n",
    "         dupItems.append(num)\n",
    "      uniqItems[num] += 1\n",
    "print(dupItems)\n"
   ]
  },
  {
   "cell_type": "code",
   "execution_count": 48,
   "metadata": {},
   "outputs": [
    {
     "name": "stdout",
     "output_type": "stream",
     "text": [
      "Key is present in the dictionary\n",
      "Key is not present in the dictionary\n"
     ]
    }
   ],
   "source": [
    "a = {1: 5, 2: 10, 3: 15, 4: 20, 5: 25, 6: 30}\n",
    "def is_key_present(x):\n",
    "  if x in a:\n",
    "      print('Key is present in the dictionary')\n",
    "  else:\n",
    "      print('Key is not present in the dictionary')\n",
    "is_key_present(5)\n",
    "is_key_present(20)"
   ]
  },
  {
   "cell_type": "code",
   "execution_count": null,
   "metadata": {},
   "outputs": [],
   "source": []
  },
  {
   "cell_type": "code",
   "execution_count": null,
   "metadata": {},
   "outputs": [],
   "source": []
  }
 ],
 "metadata": {
  "kernelspec": {
   "display_name": "Python 3",
   "language": "python",
   "name": "python3"
  },
  "language_info": {
   "codemirror_mode": {
    "name": "ipython",
    "version": 3
   },
   "file_extension": ".py",
   "mimetype": "text/x-python",
   "name": "python",
   "nbconvert_exporter": "python",
   "pygments_lexer": "ipython3",
   "version": "3.7.3"
  }
 },
 "nbformat": 4,
 "nbformat_minor": 2
}
