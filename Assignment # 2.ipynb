{
 "cells": [
  {
   "cell_type": "code",
   "execution_count": 1,
   "metadata": {},
   "outputs": [
    {
     "name": "stdout",
     "output_type": "stream",
     "text": [
      "Enter your Arabic marks:55\n",
      "Enter your Urdu marks: 44\n",
      "Enter your English marks: 44\n",
      "Enter your Maths marks: 55\n",
      "Enter your Computer marks: 44\n",
      "242.0\n",
      "48.4\n",
      "Your grade is :D\n"
     ]
    }
   ],
   "source": [
    "arabic = float(input(\"Enter your Arabic marks:\"))\n",
    "urdu = float(input(\"Enter your Urdu marks: \"))\n",
    "english = float(input(\"Enter your English marks: \"))\n",
    "maths = float(input(\"Enter your Maths marks: \"))\n",
    "computer = float(input(\"Enter your Computer marks: \"))\n",
    "if (arabic >= 0 and arabic < 90):\n",
    "    if (urdu >= 0 and urdu < 90):\n",
    "        if (english >= 0 and english < 90):\n",
    "            if (maths >= 0 and maths <= 100):\n",
    "                if (computer >= 0 and computer < 90):\n",
    "                    total = (arabic + urdu + english + maths + computer)\n",
    "                    print(total)\n",
    "                    percentage = total / 500 * 100\n",
    "                    print(percentage)\n",
    "                    if percentage >=80 and percentage <=100:\n",
    "                        print(\"You grade is :A+\")\n",
    "                    elif percentage >= 70 and percentage <80:\n",
    "                        print(\"You grade is :A\")\n",
    "                    elif percentage >= 60 and percentage <70:\n",
    "                        print(\"Your grade is :B\")\n",
    "                    elif percentage >= 50 and percentage <60:\n",
    "                        print(\"Your grade is :C\")\n",
    "                    elif percentage >=40 and percentage <50:\n",
    "                        print(\"Your grade is :D\")\n",
    "                    elif percentage >=33 and percentage <40:\n",
    "                        print(\"Your grade is :E\")\n",
    "                    elif percentage >=0 and percentage <33:\n",
    "                        print(\"FAIL\")\n",
    "                    else:\n",
    "                        print(\"You have given inapproperiate\")\n",
    "\n",
    "else:\n",
    "    print(\"Please enter number properly\")"
   ]
  },
  {
   "cell_type": "code",
   "execution_count": 2,
   "metadata": {},
   "outputs": [
    {
     "name": "stdout",
     "output_type": "stream",
     "text": [
      "Please write any digit and check it is EVEN or ODD: 5\n",
      "ODD\n"
     ]
    }
   ],
   "source": [
    "ques = float(input(\"Please write any digit and check it is EVEN or ODD: \"))\n",
    "if ques % 2 == 0:\n",
    "    print(\"Even\")\n",
    "else:\n",
    "    print(\"ODD\")"
   ]
  },
  {
   "cell_type": "code",
   "execution_count": 3,
   "metadata": {},
   "outputs": [
    {
     "name": "stdout",
     "output_type": "stream",
     "text": [
      "3\n"
     ]
    }
   ],
   "source": [
    "one = [\"one\", \"two\", \"three\"]\n",
    "print(len(one))"
   ]
  },
  {
   "cell_type": "code",
   "execution_count": 4,
   "metadata": {},
   "outputs": [
    {
     "name": "stdout",
     "output_type": "stream",
     "text": [
      "12\n"
     ]
    }
   ],
   "source": [
    "mylist = [1, 2, 3, 4, 2]\n",
    "totallist = sum(mylist)\n",
    "print(totallist)"
   ]
  },
  {
   "cell_type": "code",
   "execution_count": 5,
   "metadata": {},
   "outputs": [
    {
     "data": {
      "text/plain": [
       "10"
      ]
     },
     "execution_count": 5,
     "metadata": {},
     "output_type": "execute_result"
    }
   ],
   "source": [
    "numlist = [9, 7, 4, 2, 5, 3, 1, 10, 1]\n",
    "numlist.sort()\n",
    "numlist.pop()\n"
   ]
  },
  {
   "cell_type": "code",
   "execution_count": 6,
   "metadata": {},
   "outputs": [
    {
     "name": "stdout",
     "output_type": "stream",
     "text": [
      "3\n",
      "1\n"
     ]
    }
   ],
   "source": [
    "lists = [5, 6, 3, 7, 24, 7, 22, 1, 12, 26, 25]\n",
    "for i in lists:\n",
    "    if i < 5:\n",
    "        print(i)"
   ]
  },
  {
   "cell_type": "code",
   "execution_count": null,
   "metadata": {},
   "outputs": [],
   "source": []
  },
  {
   "cell_type": "code",
   "execution_count": null,
   "metadata": {},
   "outputs": [],
   "source": []
  }
 ],
 "metadata": {
  "kernelspec": {
   "display_name": "Python 3",
   "language": "python",
   "name": "python3"
  },
  "language_info": {
   "codemirror_mode": {
    "name": "ipython",
    "version": 3
   },
   "file_extension": ".py",
   "mimetype": "text/x-python",
   "name": "python",
   "nbconvert_exporter": "python",
   "pygments_lexer": "ipython3",
   "version": "3.7.3"
  }
 },
 "nbformat": 4,
 "nbformat_minor": 2
}
